{
  "nbformat": 4,
  "nbformat_minor": 0,
  "metadata": {
    "colab": {
      "name": "ECS7020P_miniproject_advanced.ipynb",
      "provenance": []
    },
    "kernelspec": {
      "name": "python3",
      "display_name": "Python 3"
    },
    "language_info": {
      "name": "python"
    }
  },
  "cells": [
    {
      "cell_type": "markdown",
      "source": [
        "# 1. Author"
      ],
      "metadata": {
        "id": "BceETXxKp70d"
      }
    },
    {
      "cell_type": "markdown",
      "source": [
        "**Student Name:** Daniel Elston\n",
        "\n",
        "**Student Number:** 210720147"
      ],
      "metadata": {
        "id": "XD7yWlfKp7qF"
      }
    },
    {
      "cell_type": "markdown",
      "source": [
        "# 2. Problem Formulation\n",
        "\n",
        "A large problem with a lot of data collected is background noise. The same applies to audio recordings. Background noises such as other people talking, a cars engine or even electrical noise caused by having your laptop charging while you record an audio. Removing this background noise improves results and makes analysis more clear. This advanced solution is aimed at identifying background noise. \n",
        "\n",
        "The background noise itself is closely related to silence for audio files such the ones in use here. Silence could be useful in audio recognition, for example matching periods of silence could help classify an audio signal. For this reason, the advanced solutions is aimed at identifying background noise and silence for use in any further research."
      ],
      "metadata": {
        "id": "SY9FgOkGJm0M"
      }
    },
    {
      "cell_type": "code",
      "source": [
        "from google.colab import drive\n",
        "\n",
        "import numpy as np\n",
        "import pandas as pd\n",
        "import matplotlib.pyplot as plt\n",
        "import seaborn as sns\n",
        "\n",
        "from sklearn.preprocessing import StandardScaler\n",
        "from sklearn import svm\n",
        "from sklearn.model_selection import train_test_split\n",
        "from sklearn import metrics\n",
        "import librosa.display\n",
        "import math\n",
        "import soundfile as sf\n",
        "import matplotlib.style as ms\n",
        "from tqdm import tqdm\n",
        "\n",
        "%matplotlib inline\n",
        "\n",
        "from sklearn.metrics import confusion_matrix\n",
        "from sklearn.preprocessing import StandardScaler\n",
        "from sklearn.ensemble import RandomForestClassifier\n",
        "from sklearn.metrics import confusion_matrix, f1_score, accuracy_score, precision_score, recall_score\n",
        "from xgboost import XGBClassifier\n",
        "import xgboost as xgb\n",
        "from sklearn.svm import SVC, LinearSVC\n",
        "\n",
        "import os, sys, re, pickle, glob\n",
        "import urllib.request\n",
        "import zipfile\n",
        "\n",
        "import IPython.display as ipd\n",
        "from tqdm import tqdm\n",
        "import librosa\n",
        "\n",
        "drive.mount('/content/drive')"
      ],
      "metadata": {
        "id": "g5zF2O1jwOE6",
        "colab": {
          "base_uri": "https://localhost:8080/"
        },
        "outputId": "1e66e9ea-3b8f-48d2-d148-b587a8abdee9"
      },
      "execution_count": 1,
      "outputs": [
        {
          "output_type": "stream",
          "name": "stdout",
          "text": [
            "Drive already mounted at /content/drive; to attempt to forcibly remount, call drive.mount(\"/content/drive\", force_remount=True).\n"
          ]
        }
      ]
    },
    {
      "cell_type": "markdown",
      "source": [
        "The data is loaded in. For this problem, a dataset consisting of many WAV files, each with either a hum or a whistle to the Harry Potter theme song or the Star Wars theme song."
      ],
      "metadata": {
        "id": "6LO-d2AvKcbx"
      }
    },
    {
      "cell_type": "code",
      "source": [
        "pathall = '/content/drive/MyDrive/Data/MLEndHW_pub/AllAudio'"
      ],
      "metadata": {
        "id": "5WwWfdIMvnsk"
      },
      "execution_count": 2,
      "outputs": []
    },
    {
      "cell_type": "code",
      "source": [
        "sample_pathall = '/content/drive/MyDrive/Data/MLEndHW_pub/AllAudio/*.wav'\n",
        "files_all = glob.glob(sample_pathall)\n",
        "\n",
        "len(files_all)"
      ],
      "metadata": {
        "colab": {
          "base_uri": "https://localhost:8080/"
        },
        "id": "ClsHj_lSvt65",
        "outputId": "d4a2f211-ea8f-46e3-9e51-72d97f131691"
      },
      "execution_count": 3,
      "outputs": [
        {
          "output_type": "execute_result",
          "data": {
            "text/plain": [
              "747"
            ]
          },
          "metadata": {},
          "execution_count": 3
        }
      ]
    },
    {
      "cell_type": "markdown",
      "source": [
        "# 3. Machine Learning Pipeline\n",
        "\n",
        "The machine learning pipeline below consists of audio files as an input with transformations in the form of audio feature extraction. The feature extracted for this solution is soley audio silence. Machine learning models are trained with audio silence and executed. The output is a classification of song recogonition."
      ],
      "metadata": {
        "id": "0cwd-RjBeVbk"
      }
    },
    {
      "cell_type": "markdown",
      "source": [
        "# 4. Transformation Stage\n",
        "\n",
        "The input for this model is a dataset containing 747 audio files. There are 4 types of file, each file is either a student humming or whistling to either the Harry Potter or Star Wars theme song. The feature extracted for this solution is audio silence, using the function below."
      ],
      "metadata": {
        "id": "E7nQxKIUf2T4"
      }
    },
    {
      "cell_type": "code",
      "source": [
        "def getXy_sil(files,labels_file, scale_audio=False, onlySingleDigit=False):\n",
        "  X,y =[],[]\n",
        "  for file in tqdm(files):\n",
        "    fileID = file.split('/')[-1]\n",
        "    file_name = file.split('/')[-1]\n",
        "    yi = labels_file.loc[fileID]['song']=='Potter'\n",
        "\n",
        "    fs = None\n",
        "    x, fs = librosa.load(file,sr=fs)\n",
        "    rmse = librosa.feature.rms(x + 0.0001)[0]\n",
        "    \n",
        "    silence = 0\n",
        "    for e in rmse:\n",
        "        if e <= 0.4 * np.mean(rmse):\n",
        "            silence += 1\n",
        "    sil = silence/float(len(rmse))\n",
        "\n",
        "    xi = [sil]\n",
        "    X.append(xi)\n",
        "    y.append(yi)\n",
        "\n",
        "  return np.array(X), np.array(y)"
      ],
      "metadata": {
        "id": "7fyjPj7jOYRA"
      },
      "execution_count": 4,
      "outputs": []
    },
    {
      "cell_type": "markdown",
      "source": [
        "Each feature extracted was saved as a seperate text file and loaded in from the same filepath as the rest of the data. This saves computing power. Further features extracted in the basic solution have also been loaded as they may be useful in identifying silence."
      ],
      "metadata": {
        "id": "idBbVrrOhZ99"
      }
    },
    {
      "cell_type": "code",
      "source": [
        "with open('/content/drive/MyDrive/Data/MLEndHW_pub/f_og.txt', 'rb') as filepath:\n",
        "  f_og=pickle.load(filepath)"
      ],
      "metadata": {
        "id": "ohrDjh0F2tLB"
      },
      "execution_count": 5,
      "outputs": []
    },
    {
      "cell_type": "code",
      "source": [
        "with open('/content/drive/MyDrive/Data/MLEndHW_pub/f_sil.txt', 'rb') as filepath:\n",
        "  f_sil=pickle.load(filepath)"
      ],
      "metadata": {
        "id": "yrdjdGMVg4AA"
      },
      "execution_count": 6,
      "outputs": []
    },
    {
      "cell_type": "markdown",
      "source": [
        "Each feature is added to a dataframe for easy visualisation of resulting features extracted."
      ],
      "metadata": {
        "id": "_6G1UQkQhp5Q"
      }
    },
    {
      "cell_type": "markdown",
      "source": [
        "# 5. Modelling\n",
        "\n",
        "The SVM and RandomForestClassifier (RFC) from Sklearn will be used to train our model and execute the results over all audio files. Using extracted features, machine learning models are trained and executed. \n",
        "\n",
        "SVM is a support vector machine that seperates the data based on a regression line that fits the data the best. Once this regression has taken place, the SVM classifies each data point based on which side of the line it lies on.\n",
        "\n",
        "The RFC constructs many decision trees tasked with classifying each audio feature. Many iterations of the classification algorithm take place, then the RFC takes an average classification as the result.\n",
        "\n",
        "The XGBClassifier allows the dataset to be treated as a model and therefore enables it to be classified."
      ],
      "metadata": {
        "id": "F3wE4s7CjPx-"
      }
    },
    {
      "cell_type": "markdown",
      "source": [
        "# 6. Methodology\n",
        "\n",
        "The audio silence extracted will now be passed through various modules in order to train our model. Validation sets of the data extracted will be used to test the model and produce a result of how well the model classifies the data for each song type.\n",
        "\n",
        "Model performances will be validated using metrics such as their accuracy, f1 scores, recall scores, precision scores and finally, their confusion matrices. Model Accuracy, is the most important for this report, as it will tell us how often the classifier is correct in identifying the song name. The f1 score is the mean ratio of the models performance using precision and recall. \n",
        "\n",
        "Confusion matrices are shown to visualise the target classification predicted by the model compared to the actual classification. "
      ],
      "metadata": {
        "id": "T8cbwCaepCQB"
      }
    },
    {
      "cell_type": "markdown",
      "source": [
        "# 7. Dataset\n",
        "\n",
        "The dataset being used to train each model is that of the audio files features that have been extracted. In this case, the audio silence feature is used.\n",
        "\n",
        "Two random files are loaded and their paths are shown."
      ],
      "metadata": {
        "id": "NIbgjRPhp1ls"
      }
    },
    {
      "cell_type": "code",
      "source": [
        "n=4\n",
        "m=5\n",
        "fs = None # Sampling frequency. If None, fs would be 22050\n",
        "x, fs = librosa.load(files_all[n],sr=fs)\n",
        "x2, fs2 = librosa.load(files_all[m],sr=fs)\n",
        "t = np.arange(len(x))/fs\n",
        "\n",
        "print(files_all[n])\n",
        "print(files_all[m])"
      ],
      "metadata": {
        "colab": {
          "base_uri": "https://localhost:8080/"
        },
        "outputId": "c24dcc13-9ec3-4574-df6e-06ca462a63e0",
        "id": "LoCEp_awuP2e"
      },
      "execution_count": 7,
      "outputs": [
        {
          "output_type": "stream",
          "name": "stdout",
          "text": [
            "/content/drive/MyDrive/Data/MLEndHW_pub/AllAudio/S5_hum_1_Potter.wav\n",
            "/content/drive/MyDrive/Data/MLEndHW_pub/AllAudio/S4_hum_1_Potter.wav\n"
          ]
        }
      ]
    },
    {
      "cell_type": "markdown",
      "source": [
        "Here is an example of the raw data we are working with. The files shown below are randomly chosen."
      ],
      "metadata": {
        "id": "N91f5LnusrIX"
      }
    },
    {
      "cell_type": "code",
      "source": [
        "plt.figure(figsize=(15,4))\n",
        "librosa.display.waveplot(x, max_sr=1000, alpha=0.25, color='r')\n",
        "plt.ylabel('Amplitude')\n",
        "plt.show()"
      ],
      "metadata": {
        "colab": {
          "base_uri": "https://localhost:8080/",
          "height": 281
        },
        "id": "wnYohpGjs0Qa",
        "outputId": "bea07eb4-2d17-4593-a567-a1e3d432453f"
      },
      "execution_count": 8,
      "outputs": [
        {
          "output_type": "display_data",
          "data": {
            "image/png": "[encoded data removed]",
            "text/plain": [
              "<Figure size 1080x288 with 1 Axes>"
            ]
          },
          "metadata": {
            "needs_background": "light"
          }
        }
      ]
    },
    {
      "cell_type": "code",
      "source": [
        "plt.figure(figsize=(15,4))\n",
        "librosa.display.waveplot(x2, max_sr=1000, alpha=0.25, color='b')\n",
        "plt.ylabel('Amplitude')\n",
        "plt.show()"
      ],
      "metadata": {
        "colab": {
          "base_uri": "https://localhost:8080/",
          "height": 279
        },
        "id": "mWdpbZqLs2T0",
        "outputId": "85cc823a-1ef1-4f0d-a55b-a4fa627dfcd5"
      },
      "execution_count": 9,
      "outputs": [
        {
          "output_type": "display_data",
          "data": {
            "image/png": "[encoded data removed]",
            "text/plain": [
              "<Figure size 1080x288 with 1 Axes>"
            ]
          },
          "metadata": {
            "needs_background": "light"
          }
        }
      ]
    },
    {
      "cell_type": "code",
      "source": [
        "plt.figure(figsize=(15,4))\n",
        "librosa.display.waveplot(x, max_sr=1000, alpha=0.25, color='r')\n",
        "librosa.display.waveplot(x2, max_sr=1000, alpha=0.25, color='b')\n",
        "plt.ylabel('Amplitude')\n",
        "plt.show()"
      ],
      "metadata": {
        "colab": {
          "base_uri": "https://localhost:8080/",
          "height": 279
        },
        "outputId": "20bf280d-fd63-44d6-94b3-d80e5be754d4",
        "id": "uQNWThphuP2p"
      },
      "execution_count": 10,
      "outputs": [
        {
          "output_type": "display_data",
          "data": {
            "image/png": "[encoded data removed]",
            "text/plain": [
              "<Figure size 1080x288 with 1 Axes>"
            ]
          },
          "metadata": {
            "needs_background": "light"
          }
        }
      ]
    },
    {
      "cell_type": "markdown",
      "source": [
        "The code below retreives all files by name."
      ],
      "metadata": {
        "id": "AUN6-Uv7jEbD"
      }
    },
    {
      "cell_type": "code",
      "source": [
        "all_table = [] \n",
        "\n",
        "for file in files_all:\n",
        "  file_name = file.split('/')[-1]\n",
        "  participant_ID = file.split('/')[-1].split('_')[0]\n",
        "  interpretation_type = file.split('/')[-1].split('_')[1]\n",
        "  interpretation_number = file.split('/')[-1].split('_')[2]\n",
        "  song = file.split('/')[-1].split('_')[3].split('.')[0]\n",
        "  all_table.append([file_name,participant_ID,interpretation_type,interpretation_number, song])"
      ],
      "metadata": {
        "id": "ZyWEybG7vv_i"
      },
      "execution_count": 11,
      "outputs": []
    },
    {
      "cell_type": "markdown",
      "source": [
        "The files are put into a dataframe to easily see their titles and details."
      ],
      "metadata": {
        "id": "voS7GfH4jL2e"
      }
    },
    {
      "cell_type": "code",
      "source": [
        "all_df = pd.DataFrame(all_table,columns=['file_id','participant','interpretation','number','song']).set_index('file_id') \n",
        "all_df"
      ],
      "metadata": {
        "colab": {
          "base_uri": "https://localhost:8080/",
          "height": 455
        },
        "id": "AkbBRbGTv3hh",
        "outputId": "71306e47-d187-41a3-e883-0726450197c4"
      },
      "execution_count": 12,
      "outputs": [
        {
          "output_type": "execute_result",
          "data": {
            "text/html": [
              "<div>\n",
              "<style scoped>\n",
              "    .dataframe tbody tr th:only-of-type {\n",
              "        vertical-align: middle;\n",
              "    }\n",
              "\n",
              "    .dataframe tbody tr th {\n",
              "        vertical-align: top;\n",
              "    }\n",
              "\n",
              "    .dataframe thead th {\n",
              "        text-align: right;\n",
              "    }\n",
              "</style>\n",
              "<table border=\"1\" class=\"dataframe\">\n",
              "  <thead>\n",
              "    <tr style=\"text-align: right;\">\n",
              "      <th></th>\n",
              "      <th>participant</th>\n",
              "      <th>interpretation</th>\n",
              "      <th>number</th>\n",
              "      <th>song</th>\n",
              "    </tr>\n",
              "    <tr>\n",
              "      <th>file_id</th>\n",
              "      <th></th>\n",
              "      <th></th>\n",
              "      <th></th>\n",
              "      <th></th>\n",
              "    </tr>\n",
              "  </thead>\n",
              "  <tbody>\n",
              "    <tr>\n",
              "      <th>S1_hum_2_Potter.wav</th>\n",
              "      <td>S1</td>\n",
              "      <td>hum</td>\n",
              "      <td>2</td>\n",
              "      <td>Potter</td>\n",
              "    </tr>\n",
              "    <tr>\n",
              "      <th>S2_whistle_2_Potter.wav</th>\n",
              "      <td>S2</td>\n",
              "      <td>whistle</td>\n",
              "      <td>2</td>\n",
              "      <td>Potter</td>\n",
              "    </tr>\n",
              "    <tr>\n",
              "      <th>S5_hum_2_Potter.wav</th>\n",
              "      <td>S5</td>\n",
              "      <td>hum</td>\n",
              "      <td>2</td>\n",
              "      <td>Potter</td>\n",
              "    </tr>\n",
              "    <tr>\n",
              "      <th>S3_hum_1_Potter.wav</th>\n",
              "      <td>S3</td>\n",
              "      <td>hum</td>\n",
              "      <td>1</td>\n",
              "      <td>Potter</td>\n",
              "    </tr>\n",
              "    <tr>\n",
              "      <th>S5_hum_1_Potter.wav</th>\n",
              "      <td>S5</td>\n",
              "      <td>hum</td>\n",
              "      <td>1</td>\n",
              "      <td>Potter</td>\n",
              "    </tr>\n",
              "    <tr>\n",
              "      <th>...</th>\n",
              "      <td>...</td>\n",
              "      <td>...</td>\n",
              "      <td>...</td>\n",
              "      <td>...</td>\n",
              "    </tr>\n",
              "    <tr>\n",
              "      <th>S222_hum_2_StarWars.wav</th>\n",
              "      <td>S222</td>\n",
              "      <td>hum</td>\n",
              "      <td>2</td>\n",
              "      <td>StarWars</td>\n",
              "    </tr>\n",
              "    <tr>\n",
              "      <th>S219_hum_3_StarWars.wav</th>\n",
              "      <td>S219</td>\n",
              "      <td>hum</td>\n",
              "      <td>3</td>\n",
              "      <td>StarWars</td>\n",
              "    </tr>\n",
              "    <tr>\n",
              "      <th>S218_whistle_2_StarWars.wav</th>\n",
              "      <td>S218</td>\n",
              "      <td>whistle</td>\n",
              "      <td>2</td>\n",
              "      <td>StarWars</td>\n",
              "    </tr>\n",
              "    <tr>\n",
              "      <th>S221_hum_1_StarWars.wav</th>\n",
              "      <td>S221</td>\n",
              "      <td>hum</td>\n",
              "      <td>1</td>\n",
              "      <td>StarWars</td>\n",
              "    </tr>\n",
              "    <tr>\n",
              "      <th>S222_whistle_2_StarWars.wav</th>\n",
              "      <td>S222</td>\n",
              "      <td>whistle</td>\n",
              "      <td>2</td>\n",
              "      <td>StarWars</td>\n",
              "    </tr>\n",
              "  </tbody>\n",
              "</table>\n",
              "<p>747 rows × 4 columns</p>\n",
              "</div>"
            ],
            "text/plain": [
              "                            participant interpretation number      song\n",
              "file_id                                                                \n",
              "S1_hum_2_Potter.wav                  S1            hum      2    Potter\n",
              "S2_whistle_2_Potter.wav              S2        whistle      2    Potter\n",
              "S5_hum_2_Potter.wav                  S5            hum      2    Potter\n",
              "S3_hum_1_Potter.wav                  S3            hum      1    Potter\n",
              "S5_hum_1_Potter.wav                  S5            hum      1    Potter\n",
              "...                                 ...            ...    ...       ...\n",
              "S222_hum_2_StarWars.wav            S222            hum      2  StarWars\n",
              "S219_hum_3_StarWars.wav            S219            hum      3  StarWars\n",
              "S218_whistle_2_StarWars.wav        S218        whistle      2  StarWars\n",
              "S221_hum_1_StarWars.wav            S221            hum      1  StarWars\n",
              "S222_whistle_2_StarWars.wav        S222        whistle      2  StarWars\n",
              "\n",
              "[747 rows x 4 columns]"
            ]
          },
          "metadata": {},
          "execution_count": 12
        }
      ]
    },
    {
      "cell_type": "markdown",
      "source": [
        "The audio silence and file labels are put into a dataframe. Each file is either a Potter file (True) or a Starwars file (False)."
      ],
      "metadata": {
        "id": "23rVuoaXjP75"
      }
    },
    {
      "cell_type": "code",
      "source": [
        "x = f_sil[0]\n",
        "df_sil = pd.DataFrame(x, columns=['Silence'])"
      ],
      "metadata": {
        "id": "8bLXwlSvrIyN"
      },
      "execution_count": 13,
      "outputs": []
    },
    {
      "cell_type": "code",
      "source": [
        "z = f_og\n",
        "labels = z[-1]"
      ],
      "metadata": {
        "id": "TBIwhtnvrIyN"
      },
      "execution_count": 14,
      "outputs": []
    },
    {
      "cell_type": "markdown",
      "source": [
        "Here is the resultant audio silence dataframe."
      ],
      "metadata": {
        "id": "VM4GTG-Zjt-Z"
      }
    },
    {
      "cell_type": "code",
      "source": [
        "df = df_sil.assign(Labels = labels)\n",
        "display(df.head())\n",
        "print(df.shape)"
      ],
      "metadata": {
        "colab": {
          "base_uri": "https://localhost:8080/",
          "height": 223
        },
        "outputId": "6c540896-bbd0-4c95-d86c-b15b282f556b",
        "id": "KsRHD0zRrIyO"
      },
      "execution_count": 15,
      "outputs": [
        {
          "output_type": "display_data",
          "data": {
            "text/html": [
              "<div>\n",
              "<style scoped>\n",
              "    .dataframe tbody tr th:only-of-type {\n",
              "        vertical-align: middle;\n",
              "    }\n",
              "\n",
              "    .dataframe tbody tr th {\n",
              "        vertical-align: top;\n",
              "    }\n",
              "\n",
              "    .dataframe thead th {\n",
              "        text-align: right;\n",
              "    }\n",
              "</style>\n",
              "<table border=\"1\" class=\"dataframe\">\n",
              "  <thead>\n",
              "    <tr style=\"text-align: right;\">\n",
              "      <th></th>\n",
              "      <th>Silence</th>\n",
              "      <th>Labels</th>\n",
              "    </tr>\n",
              "  </thead>\n",
              "  <tbody>\n",
              "    <tr>\n",
              "      <th>0</th>\n",
              "      <td>0.450210</td>\n",
              "      <td>True</td>\n",
              "    </tr>\n",
              "    <tr>\n",
              "      <th>1</th>\n",
              "      <td>0.368598</td>\n",
              "      <td>True</td>\n",
              "    </tr>\n",
              "    <tr>\n",
              "      <th>2</th>\n",
              "      <td>0.373518</td>\n",
              "      <td>True</td>\n",
              "    </tr>\n",
              "    <tr>\n",
              "      <th>3</th>\n",
              "      <td>0.117468</td>\n",
              "      <td>True</td>\n",
              "    </tr>\n",
              "    <tr>\n",
              "      <th>4</th>\n",
              "      <td>0.606156</td>\n",
              "      <td>True</td>\n",
              "    </tr>\n",
              "  </tbody>\n",
              "</table>\n",
              "</div>"
            ],
            "text/plain": [
              "    Silence  Labels\n",
              "0  0.450210    True\n",
              "1  0.368598    True\n",
              "2  0.373518    True\n",
              "3  0.117468    True\n",
              "4  0.606156    True"
            ]
          },
          "metadata": {}
        },
        {
          "output_type": "stream",
          "name": "stdout",
          "text": [
            "(747, 2)\n"
          ]
        }
      ]
    },
    {
      "cell_type": "markdown",
      "source": [
        "# 8. Results"
      ],
      "metadata": {
        "id": "Wj5dRcilrp3M"
      }
    },
    {
      "cell_type": "markdown",
      "source": [
        "The results of the model and analysis are shown below. To start, the audio silence is normalised."
      ],
      "metadata": {
        "id": "AI2WyJpRkUkz"
      }
    },
    {
      "cell_type": "code",
      "source": [
        "scaler = StandardScaler()\n",
        "\n",
        "testy = df['Labels'].to_numpy()\n",
        "xtest2 = df[['Silence']].to_numpy()\n",
        "scaler.fit(xtest2)\n",
        "xte = scaler.transform(xtest2)"
      ],
      "metadata": {
        "id": "tIJ-O2PjUuxf"
      },
      "execution_count": 16,
      "outputs": []
    },
    {
      "cell_type": "markdown",
      "source": [
        "The dataset is split into training and validation sets. Each training set will be used to train the model, then the validation sets will be used to test how well the model fits the data."
      ],
      "metadata": {
        "id": "Facw8EFlj9UT"
      }
    },
    {
      "cell_type": "code",
      "source": [
        "X_train, X_val, y_train, y_val = train_test_split(xte,testy,test_size=0.25)\n",
        "X_train.shape, X_val.shape, y_train.shape, y_val.shape"
      ],
      "metadata": {
        "colab": {
          "base_uri": "https://localhost:8080/"
        },
        "id": "Y54imVapwr9m",
        "outputId": "75284c6d-fd50-4c1d-9a9d-cacbad4de63a"
      },
      "execution_count": 17,
      "outputs": [
        {
          "output_type": "execute_result",
          "data": {
            "text/plain": [
              "((560, 1), (187, 1), (560,), (187,))"
            ]
          },
          "metadata": {},
          "execution_count": 17
        }
      ]
    },
    {
      "cell_type": "markdown",
      "source": [
        "Using the SVM module, the dataset is now trained and executed."
      ],
      "metadata": {
        "id": "MPEUU8zZkEgm"
      }
    },
    {
      "cell_type": "code",
      "source": [
        "model  = svm.SVC(C=1)\n",
        "model.fit(X_train,y_train)\n",
        "\n",
        "yt_p = model.predict(X_train)\n",
        "yv_p = model.predict(X_val)\n",
        "\n",
        "print('The training data metrics are:')\n",
        "print('Accuracy Score:', accuracy_score(y_true=y_train, y_pred=model.predict(X_train)))\n",
        "print('f1 Score:', f1_score(y_true=y_train, y_pred=model.predict(X_train)))\n",
        "print('Recall Score:', recall_score(y_true=y_train, y_pred=model.predict(X_train)))\n",
        "print('Precision Score:', precision_score(y_true=y_train, y_pred=model.predict(X_train)))\n",
        "print('\\n')\n",
        "print('The validation data metrics are:')\n",
        "print('Accuracy Score:', accuracy_score(y_true=y_val, y_pred=model.predict(X_val)))\n",
        "print('f1 Score:', f1_score(y_true=y_val, y_pred=model.predict(X_val)))\n",
        "print('Recall Score:', recall_score(y_true=y_val, y_pred=model.predict(X_val)))\n",
        "print('Precision Score:', precision_score(y_true=y_val, y_pred=model.predict(X_val)))\n",
        "print('\\n')\n",
        "print('The support vectors are', model.support_vectors_.shape, ('\\n'))\n",
        "\n",
        "tcm = confusion_matrix(y_true=y_train, y_pred=model.predict(X_train))\n",
        "tcm_n = tcm.astype('float') / tcm.sum(axis=1)[:, np.newaxis]\n",
        "\n",
        "vcm = confusion_matrix(y_true=y_val, y_pred=model.predict(X_val))\n",
        "vcm_n = vcm.astype('float') / vcm.sum(axis=1)[:, np.newaxis]\n",
        "\n",
        "print('Training confusion matrix:\\n {}\\n'.format(tcm))\n",
        "print('Validation confusion matrix:\\n {}\\n'.format(vcm))\n",
        "\n",
        "print('Normalised training confusion matrix:\\n {}\\n'.format(tcm_n))\n",
        "print('Normalised validation confusion matrix:\\n {}\\n'.format(vcm_n))"
      ],
      "metadata": {
        "id": "fWlYIcpWwuon",
        "colab": {
          "base_uri": "https://localhost:8080/"
        },
        "outputId": "7d6871bc-f95f-4355-df3b-926cf3274713"
      },
      "execution_count": 18,
      "outputs": [
        {
          "output_type": "stream",
          "name": "stdout",
          "text": [
            "The training data metrics are:\n",
            "Accuracy Score: 0.5535714285714286\n",
            "f1 Score: 0.31693989071038253\n",
            "Recall Score: 0.21481481481481482\n",
            "Precision Score: 0.6041666666666666\n",
            "\n",
            "\n",
            "The validation data metrics are:\n",
            "Accuracy Score: 0.47593582887700536\n",
            "f1 Score: 0.2794117647058823\n",
            "Recall Score: 0.1958762886597938\n",
            "Precision Score: 0.48717948717948717\n",
            "\n",
            "\n",
            "The support vectors are (517, 1) \n",
            "\n",
            "Training confusion matrix:\n",
            " [[252  38]\n",
            " [212  58]]\n",
            "\n",
            "Validation confusion matrix:\n",
            " [[70 20]\n",
            " [78 19]]\n",
            "\n",
            "Normalised training confusion matrix:\n",
            " [[0.86896552 0.13103448]\n",
            " [0.78518519 0.21481481]]\n",
            "\n",
            "Normalised validation confusion matrix:\n",
            " [[0.77777778 0.22222222]\n",
            " [0.80412371 0.19587629]]\n",
            "\n"
          ]
        }
      ]
    },
    {
      "cell_type": "markdown",
      "source": [
        "The results of the SVM classifier on accuracy of the training dataset are poor. Around 53% of the time it returns the correct label. The results of accuracy on the validation  are even worse, only returning the correct label approximately 51% of the time. All metrics follow a similar pattern. In deployment, this alogrithm would not work.\n",
        "\n",
        "The results are poor again showing great uncertainty in our models decisions."
      ],
      "metadata": {
        "id": "1IjpCtWxuf5h"
      }
    },
    {
      "cell_type": "markdown",
      "source": [
        "Using the RFC, the dataset is now trained and executed."
      ],
      "metadata": {
        "id": "uFx0kkFctZbI"
      }
    },
    {
      "cell_type": "code",
      "source": [
        "from sklearn.ensemble import RandomForestClassifier\n",
        "from sklearn.datasets import make_classification\n",
        "clf = RandomForestClassifier(n_estimators=1000, min_samples_split=300)\n",
        "\n",
        "clf.fit(X_train, y_train)\n",
        "y_pred=clf.predict(X_val)\n",
        "\n",
        "print('The training data metrics are:')\n",
        "print('Accuracy Score:', accuracy_score(y_true=y_train, y_pred=clf.predict(X_train)))\n",
        "print('f1 Score:', f1_score(y_true=y_train, y_pred=clf.predict(X_train)))\n",
        "print('Recall Score:', recall_score(y_true=y_train, y_pred=clf.predict(X_train)))\n",
        "print('Precision Score:', precision_score(y_true=y_train, y_pred=clf.predict(X_train)))\n",
        "print('\\n')\n",
        "print('The validation data metrics are:')\n",
        "print('Accuracy Score:', accuracy_score(y_true=y_val, y_pred=clf.predict(X_val)))\n",
        "print('f1 Score:', f1_score(y_true=y_val, y_pred=clf.predict(X_val)))\n",
        "print('Recall Score:', recall_score(y_true=y_val, y_pred=clf.predict(X_val)))\n",
        "print('Precision Score:', precision_score(y_true=y_val, y_pred=clf.predict(X_val)))\n",
        "print('\\n')\n",
        "print('The support vectors are', model.support_vectors_.shape, ('\\n'))\n",
        "\n",
        "tcm = confusion_matrix(y_true=y_train, y_pred=clf.predict(X_train))\n",
        "tcm_n = tcm.astype('float') / tcm.sum(axis=1)[:, np.newaxis]\n",
        "\n",
        "vcm = confusion_matrix(y_true=y_val, y_pred=clf.predict(X_val))\n",
        "vcm_n = vcm.astype('float') / vcm.sum(axis=1)[:, np.newaxis]\n",
        "\n",
        "print('Training confusion matrix:\\n {}\\n'.format(tcm))\n",
        "print('Validation confusion matrix:\\n {}\\n'.format(vcm))\n",
        "\n",
        "print('Normalised training confusion matrix:\\n {}\\n'.format(tcm_n))\n",
        "print('Normalised validation confusion matrix:\\n {}\\n'.format(vcm_n))"
      ],
      "metadata": {
        "colab": {
          "base_uri": "https://localhost:8080/"
        },
        "id": "AEy-mmh5ne49",
        "outputId": "14679944-549c-482b-d6c2-b451f1295a60"
      },
      "execution_count": 19,
      "outputs": [
        {
          "output_type": "stream",
          "name": "stdout",
          "text": [
            "The training data metrics are:\n",
            "Accuracy Score: 0.5678571428571428\n",
            "f1 Score: 0.3730569948186528\n",
            "Recall Score: 0.26666666666666666\n",
            "Precision Score: 0.6206896551724138\n",
            "\n",
            "\n",
            "The validation data metrics are:\n",
            "Accuracy Score: 0.47593582887700536\n",
            "f1 Score: 0.3194444444444444\n",
            "Recall Score: 0.23711340206185566\n",
            "Precision Score: 0.48936170212765956\n",
            "\n",
            "\n",
            "The support vectors are (517, 1) \n",
            "\n",
            "Training confusion matrix:\n",
            " [[246  44]\n",
            " [198  72]]\n",
            "\n",
            "Validation confusion matrix:\n",
            " [[66 24]\n",
            " [74 23]]\n",
            "\n",
            "Normalised training confusion matrix:\n",
            " [[0.84827586 0.15172414]\n",
            " [0.73333333 0.26666667]]\n",
            "\n",
            "Normalised validation confusion matrix:\n",
            " [[0.73333333 0.26666667]\n",
            " [0.7628866  0.2371134 ]]\n",
            "\n"
          ]
        }
      ]
    },
    {
      "cell_type": "markdown",
      "source": [
        "The results of the RFC on accuracy of the training dataset are poor once again. Around 58% of the time it returns the correct label. The results of accuracy on the validation  are even worse, only returning the correct label approximately 51% of the time. All metrics follow a similar pattern. In deployment, this alogrithm would not work.\n",
        "\n",
        "The results of the matrices are poor again showing great uncertainty in the models decisions."
      ],
      "metadata": {
        "id": "wBpgDlnSmISj"
      }
    },
    {
      "cell_type": "code",
      "source": [
        "xgbc = XGBClassifier()\n",
        "XGBClassifier(base_score=1, objective='multi:softprob') \n",
        "\n",
        "xgbc.fit(X_train, y_train)\n",
        "\n",
        "print('The training data metrics are:')\n",
        "print('Accuracy Score:', accuracy_score(y_true=y_train, y_pred=xgbc.predict(X_train)))\n",
        "print('f1 Score:', f1_score(y_true=y_train, y_pred=xgbc.predict(X_train)))\n",
        "print('Recall Score:', recall_score(y_true=y_train, y_pred=xgbc.predict(X_train)))\n",
        "print('Precision Score:', precision_score(y_true=y_train, y_pred=xgbc.predict(X_train)))\n",
        "print('\\n')\n",
        "print('The validation data metrics are:')\n",
        "print('Accuracy Score:', accuracy_score(y_true=y_val, y_pred=xgbc.predict(X_val)))\n",
        "print('f1 Score:', f1_score(y_true=y_val, y_pred=xgbc.predict(X_val)))\n",
        "print('Recall Score:', recall_score(y_true=y_val, y_pred=xgbc.predict(X_val)))\n",
        "print('Precision Score:', precision_score(y_true=y_val, y_pred=xgbc.predict(X_val)))\n",
        "print('\\n')\n",
        "print('The support vectors are', model.support_vectors_.shape, ('\\n'))\n",
        "\n",
        "tcm = confusion_matrix(y_true=y_train, y_pred=xgbc.predict(X_train))\n",
        "tcm_n = tcm.astype('float') / tcm.sum(axis=1)[:, np.newaxis]\n",
        "\n",
        "vcm = confusion_matrix(y_true=y_val, y_pred=xgbc.predict(X_val))\n",
        "vcm_n = vcm.astype('float') / vcm.sum(axis=1)[:, np.newaxis]\n",
        "\n",
        "print('Training confusion matrix:\\n {}\\n'.format(tcm))\n",
        "print('Validation confusion matrix:\\n {}\\n'.format(vcm))\n",
        "\n",
        "print('Normalised training confusion matrix:\\n {}\\n'.format(tcm_n))\n",
        "print('Normalised validation confusion matrix:\\n {}\\n'.format(vcm_n))"
      ],
      "metadata": {
        "colab": {
          "base_uri": "https://localhost:8080/"
        },
        "id": "0zAi370L17Qb",
        "outputId": "1d209867-1c46-4c9c-8a44-8e05258202b2"
      },
      "execution_count": 20,
      "outputs": [
        {
          "output_type": "stream",
          "name": "stdout",
          "text": [
            "The training data metrics are:\n",
            "Accuracy Score: 0.6732142857142858\n",
            "f1 Score: 0.5924276169265034\n",
            "Recall Score: 0.4925925925925926\n",
            "Precision Score: 0.7430167597765364\n",
            "\n",
            "\n",
            "The validation data metrics are:\n",
            "Accuracy Score: 0.48128342245989303\n",
            "f1 Score: 0.37419354838709673\n",
            "Recall Score: 0.29896907216494845\n",
            "Precision Score: 0.5\n",
            "\n",
            "\n",
            "The support vectors are (517, 1) \n",
            "\n",
            "Training confusion matrix:\n",
            " [[244  46]\n",
            " [137 133]]\n",
            "\n",
            "Validation confusion matrix:\n",
            " [[61 29]\n",
            " [68 29]]\n",
            "\n",
            "Normalised training confusion matrix:\n",
            " [[0.84137931 0.15862069]\n",
            " [0.50740741 0.49259259]]\n",
            "\n",
            "Normalised validation confusion matrix:\n",
            " [[0.67777778 0.32222222]\n",
            " [0.70103093 0.29896907]]\n",
            "\n"
          ]
        }
      ]
    },
    {
      "cell_type": "markdown",
      "source": [
        "The results of the RFC classifier on accuracy of the training dataset are poor. Around 69% of the time it returns the correct label. The results of accuracy on the validation are worse again, returning the correct label approximately 50% of the time. In deployment, again, this alogrithm would not work.\n",
        "\n",
        "The confusion matrices show a similar story. The model has struggled to classify the audio files.\n"
      ],
      "metadata": {
        "id": "pf1SsGrKyzeX"
      }
    },
    {
      "cell_type": "markdown",
      "source": [
        "# 9. Conclusion\n",
        "\n",
        "The aim of this machine learning pipeline was to classify audio files based on their audio silence. In theory, this would provide an accurate way of classifying audio files. The audio silence seemed to be an important feature. There would likely be a great difference in the amount of silence each song type had and thus would allow for easy classification. However the result was far from expected and the algorithm did not work as intended, the reasons for which I can only assume were down to human error. \n",
        "\n",
        "All classification models failed to provide any reliable results. At the very least, this pipeline could be used to eliminate low volume background noise in areas of further research. "
      ],
      "metadata": {
        "id": "LGUJEpD6xIX6"
      }
    },
    {
      "cell_type": "code",
      "source": [
        ""
      ],
      "metadata": {
        "id": "2lD__k_I2aTC"
      },
      "execution_count": 20,
      "outputs": []
    }
  ]
}